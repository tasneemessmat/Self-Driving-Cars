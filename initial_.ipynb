{
 "cells": [
  {
   "cell_type": "markdown",
   "id": "c6b87aae",
   "metadata": {},
   "source": [
    "#### Importing libraries"
   ]
  },
  {
   "cell_type": "code",
   "execution_count": 1,
   "id": "c2bca32e",
   "metadata": {},
   "outputs": [],
   "source": [
    "#import libraries\n",
    "import matplotlib.pyplot as plt\n",
    "import matplotlib.image as mpimg\n",
    "import numpy as np\n",
    "import cv2\n",
    "import glob\n",
    "import os\n",
    "from moviepy.editor import VideoFileClip\n",
    "%matplotlib inline"
   ]
  },
  {
   "cell_type": "markdown",
   "id": "430087be",
   "metadata": {},
   "source": [
    "#### 1. Camera Calibration"
   ]
  },
  {
   "cell_type": "code",
   "execution_count": 2,
   "id": "ec04ce3f",
   "metadata": {},
   "outputs": [],
   "source": [
    "def distortion_factors():\n",
    "    # Prepare object points\n",
    "    # 9*6 corners are identified \n",
    "    nx = 9\n",
    "    ny = 6\n",
    "    objpoints = []\n",
    "    imgpoints = []\n",
    "    # Object points are real world points, here a 3D coordinates matrix is generated\n",
    "    # z coordinates are 0 and x, y are equidistant as it is known that the chessboard is made of identical squares\n",
    "    objp = np.zeros((6*9,3), np.float32) \n",
    "    objp[:,:2] = np.mgrid[0:9,0:6].T.reshape(-1,2)\n",
    "  \n",
    "    # Make a list of calibration images\n",
    "    os.listdir(\"camera_cal/\")\n",
    "    cal_img_list = os.listdir(\"camera_cal/\")  \n",
    "    \n",
    "    # Imagepoints are the coresspondant object points with their coordinates in the distorted image\n",
    "    # They are found in the image using the Open CV 'findChessboardCorners' function\n",
    "    for image_name in cal_img_list:\n",
    "        import_from = 'camera_cal/' + image_name\n",
    "        img = cv2.imread(import_from)\n",
    "        # Convert to grayscale\n",
    "        gray = cv2.cvtColor(img, cv2.COLOR_BGR2GRAY)\n",
    "        # Find the chessboard corners\n",
    "        ret, corners = cv2.findChessboardCorners(gray, (nx, ny), None)\n",
    "        # If found, draw corners\n",
    "        if ret == True:\n",
    "            imgpoints.append(corners)\n",
    "            objpoints.append(objp)\n",
    "    ret, mtx, dist, rvecs, tvecs = cv2.calibrateCamera(objpoints, imgpoints, gray.shape[::-1], None, None)\n",
    "    \n",
    "    \n",
    "            \n",
    "    return mtx, dist "
   ]
  },
  {
   "cell_type": "code",
   "execution_count": null,
   "id": "d6f9b905",
   "metadata": {},
   "outputs": [],
   "source": []
  }
 ],
 "metadata": {
  "kernelspec": {
   "display_name": "Python 3",
   "language": "python",
   "name": "python3"
  },
  "language_info": {
   "codemirror_mode": {
    "name": "ipython",
    "version": 3
   },
   "file_extension": ".py",
   "mimetype": "text/x-python",
   "name": "python",
   "nbconvert_exporter": "python",
   "pygments_lexer": "ipython3",
   "version": "3.8.8"
  }
 },
 "nbformat": 4,
 "nbformat_minor": 5
}
